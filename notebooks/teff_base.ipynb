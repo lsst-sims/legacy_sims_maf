{
 "cells": [
  {
   "cell_type": "markdown",
   "metadata": {},
   "source": [
    "# Finding base magnitudes for $t_{\\mbox{eff}}$"
   ]
  },
  {
   "cell_type": "markdown",
   "metadata": {},
   "source": [
    "## Notebook setup"
   ]
  },
  {
   "cell_type": "markdown",
   "metadata": {},
   "source": [
    "### Logging"
   ]
  },
  {
   "cell_type": "markdown",
   "metadata": {},
   "source": [
    "Do it first so I can use logging to track how long imports take."
   ]
  },
  {
   "cell_type": "code",
   "execution_count": 1,
   "metadata": {},
   "outputs": [
    {
     "name": "stderr",
     "output_type": "stream",
     "text": [
      "2021-04-27 14:43:50,598 Starting\n"
     ]
    }
   ],
   "source": [
    "import logging\n",
    "logging.basicConfig(format='%(asctime)s %(message)s')\n",
    "logger = logging.getLogger(__name__)\n",
    "logger.setLevel('DEBUG')\n",
    "logger.info(\"Starting\")"
   ]
  },
  {
   "cell_type": "markdown",
   "metadata": {},
   "source": [
    "### Imports"
   ]
  },
  {
   "cell_type": "code",
   "execution_count": 2,
   "metadata": {},
   "outputs": [],
   "source": [
    "import os\n",
    "import os.path\n",
    "import copy"
   ]
  },
  {
   "cell_type": "code",
   "execution_count": 3,
   "metadata": {},
   "outputs": [
    {
     "name": "stderr",
     "output_type": "stream",
     "text": [
      "2021-04-27 14:43:50,632 Loading common modules\n"
     ]
    }
   ],
   "source": [
    "logger.debug(\"Loading common modules\")\n",
    "import pandas as pd\n",
    "import numpy as np\n",
    "import matplotlib as mpl\n",
    "import matplotlib.pyplot as plt"
   ]
  },
  {
   "cell_type": "code",
   "execution_count": 4,
   "metadata": {},
   "outputs": [
    {
     "name": "stderr",
     "output_type": "stream",
     "text": [
      "2021-04-27 14:43:51,825 Loading general astronomy modules\n"
     ]
    }
   ],
   "source": [
    "logger.debug(\"Loading general astronomy modules\")\n",
    "import healpy\n",
    "import palpy\n",
    "import astropy\n",
    "import astropy.coordinates\n",
    "from astropy.coordinates import EarthLocation\n",
    "from astropy.time import Time\n",
    "import astropy.units as u"
   ]
  },
  {
   "cell_type": "code",
   "execution_count": 5,
   "metadata": {},
   "outputs": [
    {
     "name": "stderr",
     "output_type": "stream",
     "text": [
      "2021-04-27 14:43:53,098 Loading Rubin Observatory modules\n",
      "/cvmfs/sw.lsst.eu/linux-x86_64/lsst_sims/sims_w_2021_09-dev/stack/miniconda3-py38_4.9.2-0.4.1/Linux64/sims_utils/2.13.0.sims-44-g40e226b+78010079df/python/lsst/sims/utils/Site.py:132: SyntaxWarning: \"is\" with a literal. Did you mean \"==\"?\n",
      "  if self._name is 'LSST':\n"
     ]
    }
   ],
   "source": [
    "logger.debug(\"Loading Rubin Observatory modules\")\n",
    "import lsst.sims.utils\n",
    "from lsst.sims.utils import m5_flat_sed\n",
    "from lsst.sims.seeingModel import SeeingData, SeeingModel\n",
    "from lsst.sims.cloudModel import CloudData\n",
    "from lsst.sims.skybrightness_pre import SkyModelPre"
   ]
  },
  {
   "cell_type": "code",
   "execution_count": 6,
   "metadata": {},
   "outputs": [
    {
     "data": {
      "text/plain": [
       "'master-ga4bf72ea44+06e1856cbb'"
      ]
     },
     "execution_count": 6,
     "metadata": {},
     "output_type": "execute_result"
    }
   ],
   "source": [
    "lsst.sims.seeingModel.__version__"
   ]
  },
  {
   "cell_type": "code",
   "execution_count": 7,
   "metadata": {},
   "outputs": [
    {
     "data": {
      "text/plain": [
       "'master-ge3724df529+ea94b09898'"
      ]
     },
     "execution_count": 7,
     "metadata": {},
     "output_type": "execute_result"
    }
   ],
   "source": [
    "lsst.sims.cloudModel.__version__"
   ]
  },
  {
   "cell_type": "markdown",
   "metadata": {},
   "source": [
    "### Plot setup"
   ]
  },
  {
   "cell_type": "code",
   "execution_count": 8,
   "metadata": {},
   "outputs": [],
   "source": [
    "mpl.rcParams['figure.figsize'] = (8, 5)\n",
    "plt.style.use('ggplot')\n",
    "np.random.seed(6563)"
   ]
  },
  {
   "cell_type": "markdown",
   "metadata": {},
   "source": [
    "### Constants"
   ]
  },
  {
   "cell_type": "code",
   "execution_count": 9,
   "metadata": {},
   "outputs": [],
   "source": [
    "sky_data_path = os.path.join(os.environ['SIMS_SKYBRIGHTNESS_DATA'], 'healpix')\n",
    "sky_model = lsst.sims.skybrightness_pre.SkyModelPre(data_path=sky_data_path)\n",
    "site = EarthLocation.of_site('Cerro Pachon')\n",
    "bands = pd.Series(('u', 'g', 'r', 'i', 'z', 'y')).rename('band')\n",
    "seeing500 = 0.69 ;# See ./Model_Pachon_r0.ipynb cell 42, also https://docs.google.com/presentation/d/1GEazuX-iKM1IttHlo5S3s7pyVkWfk0EVEDvhMlbaDjA\n",
    "mjd_sample_rate = 0.01 ;# Every 0.01 days = every 14.4 minutes"
   ]
  },
  {
   "cell_type": "markdown",
   "metadata": {},
   "source": [
    "## Seeing"
   ]
  },
  {
   "cell_type": "code",
   "execution_count": 10,
   "metadata": {},
   "outputs": [
    {
     "data": {
      "text/plain": [
       "band\n",
       "u    1.006968\n",
       "g    0.946801\n",
       "r    0.893110\n",
       "i    0.857011\n",
       "z    0.831870\n",
       "y    0.812705\n",
       "dtype: float64"
      ]
     },
     "execution_count": 10,
     "metadata": {},
     "output_type": "execute_result"
    }
   ],
   "source": [
    "seeing_model = SeeingModel()\n",
    "seeing = pd.Series(seeing_model(seeing500, 1.0)['fwhmEff'], index=bands)\n",
    "seeing"
   ]
  },
  {
   "cell_type": "markdown",
   "metadata": {},
   "source": [
    "## Sky"
   ]
  },
  {
   "cell_type": "code",
   "execution_count": 11,
   "metadata": {},
   "outputs": [
    {
     "name": "stderr",
     "output_type": "stream",
     "text": [
      "/cvmfs/sw.lsst.eu/linux-x86_64/lsst_sims/sims_w_2021_09-dev/conda/miniconda3-py38_4.9.2/envs/lsst-scipipe-0.4.1-ext/lib/python3.8/site-packages/erfa/core.py:154: ErfaWarning: ERFA function \"dtf2d\" yielded 1 of \"dubious year (Note 6)\"\n",
      "  warnings.warn('ERFA function \"{}\" yielded {}'.format(func_name, wmsg),\n",
      "/cvmfs/sw.lsst.eu/linux-x86_64/lsst_sims/sims_w_2021_09-dev/conda/miniconda3-py38_4.9.2/envs/lsst-scipipe-0.4.1-ext/lib/python3.8/site-packages/erfa/core.py:154: ErfaWarning: ERFA function \"utctai\" yielded 246666 of \"dubious year (Note 3)\"\n",
      "  warnings.warn('ERFA function \"{}\" yielded {}'.format(func_name, wmsg),\n",
      "WARNING: Tried to get polar motions for times after IERS data is valid. Defaulting to polar motion from the 50-yr mean for those. This may affect precision at the arcsec level [astropy.coordinates.builtin_frames.utils]\n",
      "2021-04-27 14:45:29,992 Tried to get polar motions for times after IERS data is valid. Defaulting to polar motion from the 50-yr mean for those. This may affect precision at the arcsec level\n",
      "/cvmfs/sw.lsst.eu/linux-x86_64/lsst_sims/sims_w_2021_09-dev/conda/miniconda3-py38_4.9.2/envs/lsst-scipipe-0.4.1-ext/lib/python3.8/site-packages/erfa/core.py:154: ErfaWarning: ERFA function \"utcut1\" yielded 246666 of \"dubious year (Note 3)\"\n",
      "  warnings.warn('ERFA function \"{}\" yielded {}'.format(func_name, wmsg),\n",
      "/cvmfs/sw.lsst.eu/linux-x86_64/lsst_sims/sims_w_2021_09-dev/conda/miniconda3-py38_4.9.2/envs/lsst-scipipe-0.4.1-ext/lib/python3.8/site-packages/erfa/core.py:154: ErfaWarning: ERFA function \"apio13\" yielded 246666 of \"dubious year (Note 2)\"\n",
      "  warnings.warn('ERFA function \"{}\" yielded {}'.format(func_name, wmsg),\n"
     ]
    },
    {
     "name": "stdout",
     "output_type": "stream",
     "text": [
      "CPU times: user 11min 42s, sys: 2.03 s, total: 11min 44s\n",
      "Wall time: 11min 45s\n"
     ]
    }
   ],
   "source": [
    "%%time\n",
    "mjd_range = (astropy.time.Time('2022-10-01T16:00:00Z').mjd, astropy.time.Time('2032-10-01T16:00:00Z').mjd)\n",
    "all_mjds = np.arange(*mjd_range, mjd_sample_rate)\n",
    "all_times = astropy.time.Time(all_mjds, scale='utc', format='mjd', location=site)\n",
    "sun_coords = astropy.coordinates.get_sun(all_times).transform_to(astropy.coordinates.AltAz(obstime=all_times, location=site))\n",
    "moon_coords = astropy.coordinates.get_moon(all_times).transform_to(astropy.coordinates.AltAz(obstime=all_times, location=site))\n",
    "dark_idxs = np.logical_and(sun_coords.alt.deg < -18, moon_coords.alt.deg < -18)\n",
    "mjds = all_mjds[dark_idxs]\n",
    "times = all_times[dark_idxs]"
   ]
  },
  {
   "cell_type": "markdown",
   "metadata": {},
   "source": [
    "Find the healpixels for the standard pointing for the sampled times:"
   ]
  },
  {
   "cell_type": "code",
   "execution_count": 12,
   "metadata": {},
   "outputs": [],
   "source": [
    "def find_zenith_hpixs(mjd, site, nside, north=True):\n",
    "    lst = Time(mjd, format='mjd', location=site).sidereal_time('apparent').to_value(u.degree)\n",
    "    ra = lst\n",
    "    decl = site.lat.deg\n",
    "    hpix = healpy.ang2pix(nside, ra, decl, lonlat=True)\n",
    "    return hpix"
   ]
  },
  {
   "cell_type": "markdown",
   "metadata": {},
   "source": [
    "Actually calculate the sky brightnesses:"
   ]
  },
  {
   "cell_type": "code",
   "execution_count": 13,
   "metadata": {},
   "outputs": [
    {
     "name": "stderr",
     "output_type": "stream",
     "text": [
      "/data/des91.b/data/neilsen/LSST/devel/sims_skybrightness_pre/python/lsst/sims/skybrightness_pre/SkyModelPre.py:373: UserWarning: Requested MJD between sunrise and sunset, returning closest maps\n",
      "  warnings.warn('Requested MJD between sunrise and sunset, returning closest maps')\n"
     ]
    },
    {
     "data": {
      "image/png": "[encoded data removed]",
      "text/plain": [
       "<Figure size 576x360 with 1 Axes>"
      ]
     },
     "metadata": {},
     "output_type": "display_data"
    }
   ],
   "source": [
    "def compute_zenith_mags(mjds, sky_model, **kwargs):\n",
    "    zenith_hpixs = pd.DataFrame({'mjd': mjds,\n",
    "                                 'hpix': find_zenith_hpixs(mjds, **kwargs)})\n",
    "    mags = zenith_hpixs.apply(\n",
    "        lambda x: pd.Series({k: m[0] for k, m in sky_model.returnMags(x.mjd, indx=np.array([x.hpix], dtype=int), badval=np.nan, zenith_mask=False).items()}),\n",
    "        axis=1)\n",
    "    mags['mjd'] = mjds\n",
    "    return mags\n",
    "    \n",
    "if __debug__:\n",
    "    df = compute_transiting_mags(np.arange(60000.7, 60001.7, 0.01), sky_model, site=site, nside=sky_model.nside)\n",
    "    ax = None\n",
    "    for band in bands:\n",
    "        ax = df.plot('mjd', band, ax=ax)"
   ]
  },
  {
   "cell_type": "code",
   "execution_count": 14,
   "metadata": {},
   "outputs": [
    {
     "name": "stderr",
     "output_type": "stream",
     "text": [
      "/cvmfs/sw.lsst.eu/linux-x86_64/lsst_sims/sims_w_2021_09-dev/conda/miniconda3-py38_4.9.2/envs/lsst-scipipe-0.4.1-ext/lib/python3.8/site-packages/erfa/core.py:154: ErfaWarning: ERFA function \"utcut1\" yielded 35814 of \"dubious year (Note 3)\"\n",
      "  warnings.warn('ERFA function \"{}\" yielded {}'.format(func_name, wmsg),\n",
      "/cvmfs/sw.lsst.eu/linux-x86_64/lsst_sims/sims_w_2021_09-dev/conda/miniconda3-py38_4.9.2/envs/lsst-scipipe-0.4.1-ext/lib/python3.8/site-packages/erfa/core.py:154: ErfaWarning: ERFA function \"utctai\" yielded 35814 of \"dubious year (Note 3)\"\n",
      "  warnings.warn('ERFA function \"{}\" yielded {}'.format(func_name, wmsg),\n"
     ]
    },
    {
     "name": "stdout",
     "output_type": "stream",
     "text": [
      "CPU times: user 2min 51s, sys: 3min 1s, total: 5min 53s\n",
      "Wall time: 5min 56s\n"
     ]
    }
   ],
   "source": [
    "%%time\n",
    "dark_sky_mags = compute_zenith_mags(mjds, sky_model=sky_model, site=site, nside=sky_model.nside)"
   ]
  },
  {
   "cell_type": "code",
   "execution_count": 15,
   "metadata": {},
   "outputs": [
    {
     "data": {
      "text/plain": [
       "u         22.680631\n",
       "g         22.105630\n",
       "r         21.113016\n",
       "i         20.391814\n",
       "z         19.431007\n",
       "y         18.627197\n",
       "mjd    61710.151667\n",
       "dtype: float64"
      ]
     },
     "execution_count": 15,
     "metadata": {},
     "output_type": "execute_result"
    }
   ],
   "source": [
    "median_dark_sky = dark_sky_mags.median()\n",
    "median_dark_sky"
   ]
  },
  {
   "cell_type": "code",
   "execution_count": 16,
   "metadata": {},
   "outputs": [
    {
     "data": {
      "text/plain": [
       "band\n",
       "u    23.60\n",
       "g    24.65\n",
       "r    24.23\n",
       "i    23.80\n",
       "z    23.19\n",
       "y    22.38\n",
       "dtype: float64"
      ]
     },
     "execution_count": 16,
     "metadata": {},
     "output_type": "execute_result"
    }
   ],
   "source": [
    "m0 = pd.DataFrame({\n",
    "    'band': bands,\n",
    "    'min_wavelength': (350.0, 400.0, 552.0, 691.0, 818.0, 949.0),\n",
    "    'max_wavelength': (400.0, 552.0, 691.2, 818.0, 922.0, 1060.0)}\n",
    ").set_index('band', drop=False)\n",
    "\n",
    "m0.apply(\n",
    "        lambda r: m5_flat_sed(r['band'], median_dark_sky[r['band']], seeing[r['band']], expTime=15, airmass=1, nexp=2), axis=1).round(2)"
   ]
  },
  {
   "cell_type": "code",
   "execution_count": null,
   "metadata": {},
   "outputs": [],
   "source": []
  }
 ],
 "metadata": {
  "kernelspec": {
   "display_name": "Python3 (LSST MAF)",
   "language": "python",
   "name": "lsst_maf"
  },
  "language_info": {
   "codemirror_mode": {
    "name": "ipython",
    "version": 3
   },
   "file_extension": ".py",
   "mimetype": "text/x-python",
   "name": "python",
   "nbconvert_exporter": "python",
   "pygments_lexer": "ipython3",
   "version": "3.8.8"
  }
 },
 "nbformat": 4,
 "nbformat_minor": 2
}
